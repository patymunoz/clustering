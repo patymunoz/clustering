{
 "cells": [
  {
   "cell_type": "markdown",
   "id": "47b68785",
   "metadata": {},
   "source": [
    "# Práctica 5. Clustering"
   ]
  },
  {
   "cell_type": "markdown",
   "id": "77f6e82f",
   "metadata": {},
   "source": [
    "### a) Importar librerías necesarias"
   ]
  },
  {
   "cell_type": "code",
   "execution_count": 1,
   "id": "abd8aa6d",
   "metadata": {},
   "outputs": [],
   "source": [
    "import os\n",
    "import pandas as pd\n",
    "import numpy as np\n",
    "import matplotlib.pyplot as plt\n",
    "import seaborn as sb\n",
    "from scipy.cluster import hierarchy\n",
    "import scipy.spatial.distance as sc\n",
    "from mpl_toolkits.mplot3d import Axes3D\n",
    "from helpers import countries\n",
    "import ipympl\n",
    "import warnings"
   ]
  },
  {
   "cell_type": "code",
   "execution_count": 2,
   "id": "fb856d15",
   "metadata": {},
   "outputs": [],
   "source": [
    "warnings.filterwarnings(\"ignore\")"
   ]
  },
  {
   "cell_type": "code",
   "execution_count": 3,
   "id": "cf4cf5c7",
   "metadata": {},
   "outputs": [],
   "source": [
    "%matplotlib ipympl"
   ]
  },
  {
   "cell_type": "markdown",
   "id": "e4fa6ec3",
   "metadata": {},
   "source": [
    "### b) Limpieza y estructura de datos"
   ]
  },
  {
   "cell_type": "code",
   "execution_count": 4,
   "id": "c68a1976",
   "metadata": {},
   "outputs": [],
   "source": [
    "plt.rcParams['figure.figsize'] = (8, 8)\n",
    "plt.style.use('ggplot')"
   ]
  },
  {
   "cell_type": "code",
   "execution_count": 5,
   "id": "0dc34109",
   "metadata": {},
   "outputs": [],
   "source": [
    "path=('./data/0_data_original/Environment_LandUse_E_All_Data.csv')\n",
    "data = pd.read_csv(path, encoding='latin-1')"
   ]
  },
  {
   "cell_type": "code",
   "execution_count": 6,
   "id": "4d2c23f9",
   "metadata": {},
   "outputs": [],
   "source": [
    "data.rename(columns={'Area Code': 'area_code', 'Area Code (M49)':'area_code_m49', 'Area':'area', 'Item Code':'item_code',\n",
    "                    'Item':'item', 'Element Code':'element_code', 'Element':'element', 'Year Code':'year_code', 'Year':'year',\n",
    "                    'Unit':'unit', 'Value':'value', 'Flag':'flag'}, inplace=True)"
   ]
  },
  {
   "cell_type": "code",
   "execution_count": 7,
   "id": "9576ab37",
   "metadata": {},
   "outputs": [],
   "source": [
    "data = data.astype({'year':'string'})"
   ]
  },
  {
   "cell_type": "code",
   "execution_count": 8,
   "id": "166cb363",
   "metadata": {},
   "outputs": [],
   "source": [
    "year = '2020'\n",
    "data['matches'] = data['year'].str.startswith(year)\n",
    "df = data [data['matches'] == True]"
   ]
  },
  {
   "cell_type": "code",
   "execution_count": 9,
   "id": "6c530986",
   "metadata": {
    "scrolled": true
   },
   "outputs": [],
   "source": [
    "elements = ['Share in Agricultural land', 'Share in Land area', 'Share in Forest land','Share in Cropland']\n",
    "df = df[df.element.isin(elements)]"
   ]
  },
  {
   "cell_type": "code",
   "execution_count": 10,
   "id": "b2ab4c45",
   "metadata": {
    "scrolled": true
   },
   "outputs": [],
   "source": [
    "df.drop(columns=['area_code_m49','item_code','element_code', 'element','year_code', 'year', 'unit','flag','matches'], inplace=True)"
   ]
  },
  {
   "cell_type": "code",
   "execution_count": 11,
   "id": "bc08bd3a",
   "metadata": {},
   "outputs": [],
   "source": [
    "pivot = pd.pivot_table(df, values='value', index=['area_code','area'], columns='item', fill_value=0).reset_index(drop=False)"
   ]
  },
  {
   "cell_type": "code",
   "execution_count": 12,
   "id": "50d33ad6",
   "metadata": {},
   "outputs": [],
   "source": [
    "countries_list = countries.countryList\n",
    "pivot = pivot[pivot.area.isin(countries_list)].reset_index(drop=True)"
   ]
  },
  {
   "cell_type": "code",
   "execution_count": 13,
   "id": "77ce790a",
   "metadata": {},
   "outputs": [],
   "source": [
    "pivot.to_csv('./data/1_data_limpia/Environment_LandUse_clean.csv')"
   ]
  }
 ],
 "metadata": {
  "kernelspec": {
   "display_name": "Python 3 (ipykernel)",
   "language": "python",
   "name": "python3"
  },
  "language_info": {
   "codemirror_mode": {
    "name": "ipython",
    "version": 3
   },
   "file_extension": ".py",
   "mimetype": "text/x-python",
   "name": "python",
   "nbconvert_exporter": "python",
   "pygments_lexer": "ipython3",
   "version": "3.8.13"
  }
 },
 "nbformat": 4,
 "nbformat_minor": 5
}
